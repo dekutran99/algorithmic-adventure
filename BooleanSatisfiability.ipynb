{
 "cells": [
  {
   "cell_type": "markdown",
   "id": "e5d6ffcb-a27a-46e2-8ec3-3e8dfc754a44",
   "metadata": {},
   "source": [
    "# Boolean Satisfiability (SAT)"
   ]
  }
 ],
 "metadata": {
  "kernelspec": {
   "display_name": "Python 3 (ipykernel)",
   "language": "python",
   "name": "python3"
  },
  "language_info": {
   "codemirror_mode": {
    "name": "ipython",
    "version": 3
   },
   "file_extension": ".py",
   "mimetype": "text/x-python",
   "name": "python",
   "nbconvert_exporter": "python",
   "pygments_lexer": "ipython3",
   "version": "3.9.7"
  }
 },
 "nbformat": 4,
 "nbformat_minor": 5
}
