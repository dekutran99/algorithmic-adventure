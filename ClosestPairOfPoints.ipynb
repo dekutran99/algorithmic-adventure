{
 "cells": [
  {
   "cell_type": "markdown",
   "id": "bd67460b-4336-4dc1-9e57-da1e8bfc9904",
   "metadata": {},
   "source": [
    "# Closest Pair Of Points"
   ]
  },
  {
   "cell_type": "code",
   "execution_count": 1,
   "id": "0f82ceb7-5daf-4566-9510-8fea6db91e89",
   "metadata": {},
   "outputs": [],
   "source": [
    "def findClosestPair(points):\n",
    "    sortedPoints = sorted(points, key=lambda p: p[0])\n",
    "    \n",
    "    return findClosestPairRecursive(sortedPoints)\n",
    "\n",
    "def findClosestPairRecursive(points):\n",
    "    pass"
   ]
  },
  {
   "cell_type": "code",
   "execution_count": null,
   "id": "71624653-ee13-426e-9bb2-9af719efa76b",
   "metadata": {},
   "outputs": [],
   "source": []
  }
 ],
 "metadata": {
  "kernelspec": {
   "display_name": "Python 3 (ipykernel)",
   "language": "python",
   "name": "python3"
  },
  "language_info": {
   "codemirror_mode": {
    "name": "ipython",
    "version": 3
   },
   "file_extension": ".py",
   "mimetype": "text/x-python",
   "name": "python",
   "nbconvert_exporter": "python",
   "pygments_lexer": "ipython3",
   "version": "3.9.7"
  }
 },
 "nbformat": 4,
 "nbformat_minor": 5
}
