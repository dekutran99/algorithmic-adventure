{
 "cells": [
  {
   "cell_type": "markdown",
   "id": "5ed0a964-f7cc-4445-820c-85b49ac3ccb3",
   "metadata": {},
   "source": [
    "# Optimal Stock Sell Off"
   ]
  },
  {
   "cell_type": "code",
   "execution_count": null,
   "id": "d993e17c-e473-4242-a630-2e7a2771ad93",
   "metadata": {},
   "outputs": [],
   "source": []
  }
 ],
 "metadata": {
  "kernelspec": {
   "display_name": "Python 3 (ipykernel)",
   "language": "python",
   "name": "python3"
  },
  "language_info": {
   "codemirror_mode": {
    "name": "ipython",
    "version": 3
   },
   "file_extension": ".py",
   "mimetype": "text/x-python",
   "name": "python",
   "nbconvert_exporter": "python",
   "pygments_lexer": "ipython3",
   "version": "3.9.7"
  }
 },
 "nbformat": 4,
 "nbformat_minor": 5
}
