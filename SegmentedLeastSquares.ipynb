{
 "cells": [
  {
   "cell_type": "markdown",
   "id": "b231e3c5-d8a6-4169-ba24-e2f211bbc422",
   "metadata": {},
   "source": [
    "# Segmented Least Squares"
   ]
  }
 ],
 "metadata": {
  "kernelspec": {
   "display_name": "Python 3 (ipykernel)",
   "language": "python",
   "name": "python3"
  },
  "language_info": {
   "codemirror_mode": {
    "name": "ipython",
    "version": 3
   },
   "file_extension": ".py",
   "mimetype": "text/x-python",
   "name": "python",
   "nbconvert_exporter": "python",
   "pygments_lexer": "ipython3",
   "version": "3.9.7"
  }
 },
 "nbformat": 4,
 "nbformat_minor": 5
}
