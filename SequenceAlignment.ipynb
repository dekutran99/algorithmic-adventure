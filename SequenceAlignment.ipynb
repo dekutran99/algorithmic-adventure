{
 "cells": [
  {
   "cell_type": "markdown",
   "id": "c60be551-edf3-4e0e-a832-01ef7077b3b3",
   "metadata": {},
   "source": [
    "# Sequence Alignment"
   ]
  },
  {
   "cell_type": "code",
   "execution_count": null,
   "id": "6a9b48eb-ac75-4658-96e4-c74563e28c8a",
   "metadata": {},
   "outputs": [],
   "source": []
  }
 ],
 "metadata": {
  "kernelspec": {
   "display_name": "Python 3 (ipykernel)",
   "language": "python",
   "name": "python3"
  },
  "language_info": {
   "codemirror_mode": {
    "name": "ipython",
    "version": 3
   },
   "file_extension": ".py",
   "mimetype": "text/x-python",
   "name": "python",
   "nbconvert_exporter": "python",
   "pygments_lexer": "ipython3",
   "version": "3.9.7"
  }
 },
 "nbformat": 4,
 "nbformat_minor": 5
}
