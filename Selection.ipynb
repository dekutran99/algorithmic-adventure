{
 "cells": [
  {
   "cell_type": "markdown",
   "id": "0da9efe6-d8cb-4303-8058-d65cf53bba72",
   "metadata": {},
   "source": [
    "# Selection Methods"
   ]
  },
  {
   "cell_type": "code",
   "execution_count": null,
   "id": "a46fafb1-daf0-455e-be9e-6bbc20e1020a",
   "metadata": {},
   "outputs": [],
   "source": []
  }
 ],
 "metadata": {
  "kernelspec": {
   "display_name": "Python 3 (ipykernel)",
   "language": "python",
   "name": "python3"
  },
  "language_info": {
   "codemirror_mode": {
    "name": "ipython",
    "version": 3
   },
   "file_extension": ".py",
   "mimetype": "text/x-python",
   "name": "python",
   "nbconvert_exporter": "python",
   "pygments_lexer": "ipython3",
   "version": "3.9.7"
  }
 },
 "nbformat": 4,
 "nbformat_minor": 5
}
