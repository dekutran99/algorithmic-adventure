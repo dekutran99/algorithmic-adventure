{
 "cells": [
  {
   "cell_type": "markdown",
   "id": "51773a27-bb63-414e-9da5-6a19e99a0ad2",
   "metadata": {},
   "source": [
    "# Subset Sums and Knapsacks"
   ]
  },
  {
   "cell_type": "code",
   "execution_count": null,
   "id": "61877c54-320f-43dd-bf70-91126f71da99",
   "metadata": {},
   "outputs": [],
   "source": []
  }
 ],
 "metadata": {
  "kernelspec": {
   "display_name": "Python 3 (ipykernel)",
   "language": "python",
   "name": "python3"
  },
  "language_info": {
   "codemirror_mode": {
    "name": "ipython",
    "version": 3
   },
   "file_extension": ".py",
   "mimetype": "text/x-python",
   "name": "python",
   "nbconvert_exporter": "python",
   "pygments_lexer": "ipython3",
   "version": "3.9.7"
  }
 },
 "nbformat": 4,
 "nbformat_minor": 5
}
