{
 "cells": [
  {
   "cell_type": "markdown",
   "id": "e4837642-5c57-4ec6-863b-2b829324cd4a",
   "metadata": {},
   "source": [
    "# Stable Matching"
   ]
  },
  {
   "cell_type": "code",
   "execution_count": null,
   "id": "59ea43f4-650e-4e7f-90ca-3b4042c5b27b",
   "metadata": {},
   "outputs": [],
   "source": []
  }
 ],
 "metadata": {
  "kernelspec": {
   "display_name": "Python 3 (ipykernel)",
   "language": "python",
   "name": "python3"
  },
  "language_info": {
   "codemirror_mode": {
    "name": "ipython",
    "version": 3
   },
   "file_extension": ".py",
   "mimetype": "text/x-python",
   "name": "python",
   "nbconvert_exporter": "python",
   "pygments_lexer": "ipython3",
   "version": "3.9.7"
  }
 },
 "nbformat": 4,
 "nbformat_minor": 5
}
