{
 "cells": [
  {
   "cell_type": "markdown",
   "id": "0d81c116-cde2-432f-87d5-b14e8e015447",
   "metadata": {},
   "source": [
    "# Interval Scheduling"
   ]
  },
  {
   "cell_type": "markdown",
   "id": "5ed028e5-e077-45ef-8de6-07b9b3f037e6",
   "metadata": {},
   "source": [
    "## Non-weighted"
   ]
  },
  {
   "cell_type": "code",
   "execution_count": null,
   "id": "e6ca8be7-652d-4c18-8ae9-885a3e7035ce",
   "metadata": {},
   "outputs": [],
   "source": []
  },
  {
   "cell_type": "markdown",
   "id": "ea4a3dba-4e05-4f67-8585-9e5fb3270bab",
   "metadata": {},
   "source": [
    "## Weighted"
   ]
  },
  {
   "cell_type": "code",
   "execution_count": null,
   "id": "6350af23-6172-4ba8-b9b7-9ff0bbc0164f",
   "metadata": {},
   "outputs": [],
   "source": []
  }
 ],
 "metadata": {
  "kernelspec": {
   "display_name": "Python 3 (ipykernel)",
   "language": "python",
   "name": "python3"
  },
  "language_info": {
   "codemirror_mode": {
    "name": "ipython",
    "version": 3
   },
   "file_extension": ".py",
   "mimetype": "text/x-python",
   "name": "python",
   "nbconvert_exporter": "python",
   "pygments_lexer": "ipython3",
   "version": "3.9.7"
  }
 },
 "nbformat": 4,
 "nbformat_minor": 5
}
