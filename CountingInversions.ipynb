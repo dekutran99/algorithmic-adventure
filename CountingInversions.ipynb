{
 "cells": [
  {
   "cell_type": "markdown",
   "id": "7eeaddea-40a2-4fc1-a5fe-1faf9af74b3a",
   "metadata": {},
   "source": [
    "# Counting Inversions"
   ]
  },
  {
   "cell_type": "code",
   "execution_count": null,
   "id": "4362f368-8987-46f2-b2a7-91880078918b",
   "metadata": {},
   "outputs": [],
   "source": []
  }
 ],
 "metadata": {
  "kernelspec": {
   "display_name": "Python 3 (ipykernel)",
   "language": "python",
   "name": "python3"
  },
  "language_info": {
   "codemirror_mode": {
    "name": "ipython",
    "version": 3
   },
   "file_extension": ".py",
   "mimetype": "text/x-python",
   "name": "python",
   "nbconvert_exporter": "python",
   "pygments_lexer": "ipython3",
   "version": "3.9.7"
  }
 },
 "nbformat": 4,
 "nbformat_minor": 5
}
