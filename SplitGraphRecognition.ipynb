{
 "cells": [
  {
   "cell_type": "markdown",
   "id": "def5640a-06b7-4473-ba7f-e5c2db149aa1",
   "metadata": {},
   "source": [
    "# Split Graph Recognition"
   ]
  },
  {
   "cell_type": "code",
   "execution_count": null,
   "id": "904c4ddb-d248-43aa-92df-1a0bd5a8c0c7",
   "metadata": {},
   "outputs": [],
   "source": []
  }
 ],
 "metadata": {
  "kernelspec": {
   "display_name": "Python 3 (ipykernel)",
   "language": "python",
   "name": "python3"
  },
  "language_info": {
   "codemirror_mode": {
    "name": "ipython",
    "version": 3
   },
   "file_extension": ".py",
   "mimetype": "text/x-python",
   "name": "python",
   "nbconvert_exporter": "python",
   "pygments_lexer": "ipython3",
   "version": "3.9.7"
  }
 },
 "nbformat": 4,
 "nbformat_minor": 5
}
